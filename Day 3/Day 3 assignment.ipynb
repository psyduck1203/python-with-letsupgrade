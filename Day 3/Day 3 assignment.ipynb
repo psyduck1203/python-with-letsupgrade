{
 "cells": [
  {
   "cell_type": "markdown",
   "metadata": {},
   "source": [
    "# Assignment 1"
   ]
  },
  {
   "cell_type": "code",
   "execution_count": 1,
   "metadata": {},
   "outputs": [
    {
     "name": "stdout",
     "output_type": "stream",
     "text": [
      "Enter a number : 5\n",
      "15\n"
     ]
    }
   ],
   "source": [
    "# Sum of n numbers using while loop\n",
    "x=int(input(\"Enter a number : \"))\n",
    "i=add=0\n",
    "while i<x:\n",
    "    i=i+1\n",
    "    add+=i\n",
    "print(add)"
   ]
  },
  {
   "cell_type": "markdown",
   "metadata": {},
   "source": [
    "# Assignment 2"
   ]
  },
  {
   "cell_type": "code",
   "execution_count": 2,
   "metadata": {},
   "outputs": [
    {
     "name": "stdout",
     "output_type": "stream",
     "text": [
      "Enter a number : 5\n",
      "Prime\n"
     ]
    }
   ],
   "source": [
    "# Prime no. or not\n",
    "x=int(input(\"Enter a number : \"))\n",
    "flag=0\n",
    "n=int(x/2)\n",
    "if x==2 or x==3:\n",
    "    print(\"Prime\")\n",
    "elif x<=1:\n",
    "    print(\"Not Prime\")\n",
    "else:\n",
    "    for i in range(4,n):\n",
    "        if(x%i==0):\n",
    "            print(\"Not Prime\")\n",
    "            flag=1\n",
    "            break\n",
    "    if(flag==0):\n",
    "        print(\"Prime\")"
   ]
  },
  {
   "cell_type": "code",
   "execution_count": 3,
   "metadata": {},
   "outputs": [
    {
     "name": "stdout",
     "output_type": "stream",
     "text": [
      "Enter a number : 12\n",
      "Not Prime\n"
     ]
    }
   ],
   "source": [
    "x=int(input(\"Enter a number : \"))\n",
    "flag=0\n",
    "n=int(x/2)\n",
    "if x==2 or x==3:\n",
    "    print(\"Prime\")\n",
    "elif x<=1:\n",
    "    print(\"Not Prime\")\n",
    "else:\n",
    "    for i in range(4,n):\n",
    "        if(x%i==0):\n",
    "            print(\"Not Prime\")\n",
    "            flag=1\n",
    "            break\n",
    "    if(flag==0):\n",
    "        print(\"Prime\")"
   ]
  }
 ],
 "metadata": {
  "kernelspec": {
   "display_name": "Python 3",
   "language": "python",
   "name": "python3"
  },
  "language_info": {
   "codemirror_mode": {
    "name": "ipython",
    "version": 3
   },
   "file_extension": ".py",
   "mimetype": "text/x-python",
   "name": "python",
   "nbconvert_exporter": "python",
   "pygments_lexer": "ipython3",
   "version": "3.7.6"
  }
 },
 "nbformat": 4,
 "nbformat_minor": 4
}
