{
 "cells": [
  {
   "cell_type": "markdown",
   "metadata": {},
   "source": [
    "# Convert list to dictionary"
   ]
  },
  {
   "cell_type": "code",
   "execution_count": 1,
   "metadata": {},
   "outputs": [
    {
     "name": "stdout",
     "output_type": "stream",
     "text": [
      "Enter the length of list1: 7\n",
      "Enter the length of list2: 5\n",
      "Enter the elements of list1: \n",
      "1\n",
      "2\n",
      "3\n",
      "4\n",
      "5\n",
      "6\n",
      "7\n",
      "Enter the elements of list2: \n",
      "a\n",
      "b\n",
      "c\n",
      "d\n",
      "e\n",
      "{'1': 'a', '2': 'b', '3': 'c', '4': 'd', '5': 'e'}\n"
     ]
    }
   ],
   "source": [
    "lst1=[]\n",
    "lst2=[]\n",
    "n1=int(input(\"Enter the length of list1: \"))\n",
    "n2=int(input(\"Enter the length of list2: \"))\n",
    "print(\"Enter the elements of list1: \")\n",
    "for i in range(n1):\n",
    "    m=input()\n",
    "    lst1.append(m)\n",
    "print(\"Enter the elements of list2: \")\n",
    "for i in range(n2):\n",
    "    m=input()\n",
    "    lst2.append(m)\n",
    "dic={lst1[i]:lst2[i] for i in range(min(len(lst1),len(lst2)))}    \n",
    "print(dic)"
   ]
  },
  {
   "cell_type": "code",
   "execution_count": 2,
   "metadata": {},
   "outputs": [
    {
     "name": "stdout",
     "output_type": "stream",
     "text": [
      "{1: 'a', 2: 'b', 3: 'c', 4: 'd', 5: 'e'}\n"
     ]
    }
   ],
   "source": [
    "L1=[1,2,3,4,5,7,8]\n",
    "L2=['a','b','c','d','e']\n",
    "dict1={L1[i]:L2[i] for i in range(min(len(L1),len(L2)))}    \n",
    "print(dict1)"
   ]
  },
  {
   "cell_type": "code",
   "execution_count": null,
   "metadata": {},
   "outputs": [],
   "source": []
  }
 ],
 "metadata": {
  "kernelspec": {
   "display_name": "Python 3",
   "language": "python",
   "name": "python3"
  },
  "language_info": {
   "codemirror_mode": {
    "name": "ipython",
    "version": 3
   },
   "file_extension": ".py",
   "mimetype": "text/x-python",
   "name": "python",
   "nbconvert_exporter": "python",
   "pygments_lexer": "ipython3",
   "version": "3.7.6"
  }
 },
 "nbformat": 4,
 "nbformat_minor": 4
}
