{
 "cells": [
  {
   "cell_type": "markdown",
   "metadata": {},
   "source": [
    "# Sorting 0's and numbers"
   ]
  },
  {
   "cell_type": "code",
   "execution_count": 1,
   "metadata": {},
   "outputs": [
    {
     "name": "stdout",
     "output_type": "stream",
     "text": [
      "List before sorting:  [0, 1, 2, 10, 4, 1, 0, 56, 2, 0, 1, 3, 0, 56, 0, 4]\n",
      "List after sorting :  [1, 1, 1, 2, 2, 3, 4, 4, 10, 56, 56, 0, 0, 0, 0, 0]\n"
     ]
    }
   ],
   "source": [
    "list1=[0,1,2,10,4,1,0,56,2,0,1,3,0,56,0,4]\n",
    "print(\"List before sorting: \",list1)\n",
    "list2=[]\n",
    "m=list1.count(0)\n",
    "for i in range(len(list1)):\n",
    "    if list1[i]!=0:\n",
    "        list2.append(list1[i])\n",
    "list2.sort()\n",
    "for i in range(m):\n",
    "    list2.append(0)\n",
    "print(\"List after sorting : \",list2)"
   ]
  },
  {
   "cell_type": "markdown",
   "metadata": {},
   "source": [
    "# Getting user input"
   ]
  },
  {
   "cell_type": "code",
   "execution_count": 2,
   "metadata": {},
   "outputs": [
    {
     "name": "stdout",
     "output_type": "stream",
     "text": [
      "Enter the length of the list: 16\n",
      "Enter the elements: \n",
      "0\n",
      "1\n",
      "2\n",
      "10\n",
      "4\n",
      "1\n",
      "0\n",
      "56\n",
      "2\n",
      "0\n",
      "1\n",
      "3\n",
      "0\n",
      "56\n",
      "0\n",
      "4\n",
      "List elements are:  [1, 1, 1, 2, 2, 3, 4, 4, 10, 56, 56, 0, 0, 0, 0, 0]\n"
     ]
    }
   ],
   "source": [
    "l1=[]\n",
    "count=0\n",
    "n=int(input(\"Enter the length of the list: \"))\n",
    "print(\"Enter the elements: \")\n",
    "for i in range(n):\n",
    "    m=int(input())\n",
    "    if m!=0:\n",
    "        l1.append(m)\n",
    "    else:\n",
    "        count+=1\n",
    "l1.sort()\n",
    "for i in range(count):\n",
    "    l1.append(0)\n",
    "print(\"List elements are: \",l1)"
   ]
  },
  {
   "cell_type": "markdown",
   "metadata": {},
   "source": [
    "# Merge two arrays"
   ]
  },
  {
   "cell_type": "code",
   "execution_count": 3,
   "metadata": {},
   "outputs": [
    {
     "name": "stdout",
     "output_type": "stream",
     "text": [
      "Enter the length of list1: 6\n",
      "Enter the elements: \n",
      "10\n",
      "30\n",
      "20\n",
      "50\n",
      "40\n",
      "10\n",
      "Enter the length of list2: 6\n",
      "Enter the elements: \n",
      "15\n",
      "25\n",
      "35\n",
      "45\n",
      "55\n",
      "65\n",
      "The List is:  [10, 10, 15, 20, 25, 30, 35, 40, 45, 50, 55, 65]\n"
     ]
    }
   ],
   "source": [
    "a=[]\n",
    "b=[]\n",
    "n1=int(input(\"Enter the length of list1: \"))\n",
    "print(\"Enter the elements: \")\n",
    "for i in range(n1):\n",
    "    t=int(input())\n",
    "    a.append(t)\n",
    "n2=int(input(\"Enter the length of list2: \"))\n",
    "print(\"Enter the elements: \")\n",
    "for i in range(n2):\n",
    "    s=int(input())\n",
    "    b.append(s)\n",
    "a=a+b\n",
    "l=len(a)\n",
    "r=[]\n",
    "for i in range(l):\n",
    "    r.append(min(a))\n",
    "    a.remove(min(a))\n",
    "print(\"The List is: \",r)"
   ]
  },
  {
   "cell_type": "code",
   "execution_count": null,
   "metadata": {},
   "outputs": [],
   "source": []
  }
 ],
 "metadata": {
  "kernelspec": {
   "display_name": "Python 3",
   "language": "python",
   "name": "python3"
  },
  "language_info": {
   "codemirror_mode": {
    "name": "ipython",
    "version": 3
   },
   "file_extension": ".py",
   "mimetype": "text/x-python",
   "name": "python",
   "nbconvert_exporter": "python",
   "pygments_lexer": "ipython3",
   "version": "3.7.6"
  }
 },
 "nbformat": 4,
 "nbformat_minor": 4
}
